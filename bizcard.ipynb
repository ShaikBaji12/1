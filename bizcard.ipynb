{
 "cells": [
  {
   "cell_type": "code",
   "execution_count": 33,
   "metadata": {},
   "outputs": [],
   "source": [
    "import easyocr\n",
    "import regex as re\n",
    "import pandas as pd"
   ]
  },
  {
   "cell_type": "code",
   "execution_count": 34,
   "metadata": {},
   "outputs": [
    {
     "name": "stderr",
     "output_type": "stream",
     "text": [
      "Neither CUDA nor MPS are available - defaulting to CPU. Note: This module is much faster with a GPU.\n"
     ]
    }
   ],
   "source": [
    "reader = easyocr.Reader(['en'])"
   ]
  },
  {
   "cell_type": "code",
   "execution_count": 35,
   "metadata": {},
   "outputs": [
    {
     "name": "stdout",
     "output_type": "stream",
     "text": [
      "['Selva', 'DATA MANAGER', '+123-456-7890', '+123-456-7891', 'WWW XYZI.com', 'hello@XYZ1.com', '123 ABC St , Chennai;', 'selva', 'TamilNadu 600113', 'digitals']\n"
     ]
    }
   ],
   "source": [
    "result1 = reader.readtext(r\"C:\\Users\\Admin\\Downloads\\1.png\",detail=0)\n",
    "print(result1)"
   ]
  },
  {
   "cell_type": "code",
   "execution_count": 36,
   "metadata": {},
   "outputs": [
    {
     "name": "stdout",
     "output_type": "stream",
     "text": [
      "['Amit kumar', 'CEO & FOUNDER', '123-456-7569', 'hello@global.com', 'WWW', 'global.com', '123 global', 'Erode,', 'GLOBAL', 'TamilNadu 600115', 'INSURANCE', 'St ,']\n"
     ]
    }
   ],
   "source": [
    "result2 = reader.readtext(r\"C:\\Users\\Admin\\Downloads\\2.png\",detail=0)\n",
    "print(result2)"
   ]
  },
  {
   "cell_type": "code",
   "execution_count": 37,
   "metadata": {},
   "outputs": [
    {
     "name": "stdout",
     "output_type": "stream",
     "text": [
      "['KARTHICK', 'General Manager', '123 ABC St , Salem,', 'TamilNadu 6004513', '+123-456-7890', 'hello@Borcelle.com', 'www Borcelle.com', 'BORCELLE', 'AIRLINES']\n"
     ]
    }
   ],
   "source": [
    "result3 = reader.readtext(r\"C:\\Users\\Admin\\Downloads\\3.png\",detail=0)\n",
    "print(result3)"
   ]
  },
  {
   "cell_type": "code",
   "execution_count": 38,
   "metadata": {},
   "outputs": [
    {
     "name": "stdout",
     "output_type": "stream",
     "text": [
      "['REVANTH', 'Marketing Executive', '123 ABC St,, HYDRABAD, TamilNadu;', '600001', '+91-456-1234', 'hello@CHRISTMAS.com', 'Family', 'wWW.CHRISTMAS.com', 'Restaurant']\n"
     ]
    }
   ],
   "source": [
    "result4 = reader.readtext(r\"C:\\Users\\Admin\\Downloads\\4.png\",detail=0)\n",
    "print(result4)"
   ]
  },
  {
   "cell_type": "code",
   "execution_count": 39,
   "metadata": {},
   "outputs": [
    {
     "name": "stdout",
     "output_type": "stream",
     "text": [
      "['SANTHOSH', 'Technical Manager', '123 ABC St , Tirupur; TamilNadu,', '641603', '+123-456-1234', 'hello@Sun.com', 'www.Suncom', 'Sun Electricals']\n"
     ]
    }
   ],
   "source": [
    "result5 = reader.readtext(r\"C:\\Users\\Admin\\Downloads\\5.png\",detail=0)\n",
    "print(result5)"
   ]
  },
  {
   "cell_type": "code",
   "execution_count": 40,
   "metadata": {},
   "outputs": [],
   "source": [
    "def phno(img):\n",
    "  num = []\n",
    "  for i in img:\n",
    "    if re.findall(r'^[+]',i):\n",
    "      num.append(i)\n",
    "    elif(re.findall(r'^\\d{3}-\\d{3}-\\d{4}$',i)):\n",
    "      num.append(i)\n",
    "  return num"
   ]
  },
  {
   "cell_type": "code",
   "execution_count": 41,
   "metadata": {},
   "outputs": [],
   "source": [
    "def email(img):\n",
    "  for i in img:\n",
    "    if(re.findall(r'[\\w\\.-]+@[\\w\\.-]+',i)):\n",
    "      return i"
   ]
  },
  {
   "cell_type": "code",
   "execution_count": 42,
   "metadata": {},
   "outputs": [],
   "source": [
    "def website(img):\n",
    "  website = \"\"\n",
    "  for i in img:\n",
    "    if re.match(r'^WWW(?=.*\\.com)', i):\n",
    "      website = i\n",
    "    elif re.match(r'^\\w+\\.com$', i):\n",
    "      website = ('WWW.'+i)\n",
    "  if len(website) ==0:\n",
    "    website = \"Not Available\"\n",
    "  else:\n",
    "    return website\n"
   ]
  },
  {
   "cell_type": "code",
   "execution_count": 43,
   "metadata": {},
   "outputs": [],
   "source": [
    "def name(img):\n",
    "  for i in img:\n",
    "    return i"
   ]
  },
  {
   "cell_type": "code",
   "execution_count": 44,
   "metadata": {},
   "outputs": [],
   "source": [
    "def designation(img):\n",
    "  for i in img:\n",
    "    return img[1]\n"
   ]
  },
  {
   "cell_type": "code",
   "execution_count": 45,
   "metadata": {},
   "outputs": [],
   "source": [
    "def address(img):\n",
    "  for i in img:\n",
    "    if(re.findall(r'^123+\\s[\\w\\.-]+',i)):\n",
    "      return i[0:10]\n"
   ]
  },
  {
   "cell_type": "code",
   "execution_count": 46,
   "metadata": {},
   "outputs": [],
   "source": [
    "def domain(img):\n",
    "  for i in img[-1]:\n",
    "    if len(img[-1])> 5:\n",
    "      return img[-1]\n",
    "    else:\n",
    "      return img[-2]\n"
   ]
  },
  {
   "cell_type": "code",
   "execution_count": 47,
   "metadata": {},
   "outputs": [],
   "source": [
    "def district(img):\n",
    "  for i in img:\n",
    "    if(re.search(r'^123+\\s',i)):\n",
    "      if len(i[10:20])> 6:\n",
    "        return i[11:20].replace(\",\",\"\")\n",
    "    elif (re.search(r'\\bErode\\b',i)):\n",
    "      return i.replace(\";\",\"\")\n",
    "  return \"Not Available\""
   ]
  },
  {
   "cell_type": "code",
   "execution_count": 48,
   "metadata": {},
   "outputs": [],
   "source": [
    "def pincode(img):\n",
    "    pincode = None\n",
    "    for i in img:\n",
    "        pincode_match = re.search(r'(\\d{6})|\\b(\\d{3}\\s*\\d{3})\\b', i)\n",
    "        if pincode_match:\n",
    "            pincode = pincode_match.group(0).replace(' ', '')\n",
    "    return pincode"
   ]
  },
  {
   "cell_type": "code",
   "execution_count": 49,
   "metadata": {},
   "outputs": [],
   "source": [
    "def state(img): \n",
    "    for i in img:\n",
    "        match = re.search(r'TamilNadu', i)\n",
    "        if match:\n",
    "            return match.group()\n",
    "    return \"Not found\""
   ]
  },
  {
   "cell_type": "code",
   "execution_count": 50,
   "metadata": {},
   "outputs": [],
   "source": [
    "#create a dictionary with all the data\n",
    "def data(img):\n",
    "  data = {}\n",
    "  data['Name'] = name(img)\n",
    "  data['Designation'] = designation(img)\n",
    "  data['Domain'] = domain(img)\n",
    "  data['Contact'] = phno(img)\n",
    "  data['E-mail'] = email(img)\n",
    "  data['Website'] = website(img)\n",
    "  data['Address'] = address(img)\n",
    "  data['District'] = district(img)\n",
    "  data['State'] = state(img)\n",
    "  data['Pincode'] = pincode(img)\n",
    "  return data"
   ]
  },
  {
   "cell_type": "code",
   "execution_count": 51,
   "metadata": {},
   "outputs": [],
   "source": [
    "df_1 = pd.DataFrame(data(result1))"
   ]
  },
  {
   "cell_type": "code",
   "execution_count": 52,
   "metadata": {},
   "outputs": [],
   "source": [
    "df_2 = pd.DataFrame(data(result2))"
   ]
  },
  {
   "cell_type": "code",
   "execution_count": 53,
   "metadata": {},
   "outputs": [],
   "source": [
    "df_3 = pd.DataFrame(data(result3))"
   ]
  },
  {
   "cell_type": "code",
   "execution_count": 54,
   "metadata": {},
   "outputs": [],
   "source": [
    "df_4 = pd.DataFrame(data(result4))"
   ]
  },
  {
   "cell_type": "code",
   "execution_count": 55,
   "metadata": {},
   "outputs": [],
   "source": [
    "df_5 = pd.DataFrame(data(result5))"
   ]
  },
  {
   "cell_type": "code",
   "execution_count": 56,
   "metadata": {},
   "outputs": [],
   "source": [
    "df = pd.concat([df_1,df_2,df_3,df_4,df_5])"
   ]
  },
  {
   "cell_type": "code",
   "execution_count": 57,
   "metadata": {},
   "outputs": [],
   "source": [
    "df.to_csv('Extracted_data.csv',index=False)"
   ]
  },
  {
   "cell_type": "code",
   "execution_count": 58,
   "metadata": {},
   "outputs": [
    {
     "data": {
      "text/html": [
       "<div>\n",
       "<style scoped>\n",
       "    .dataframe tbody tr th:only-of-type {\n",
       "        vertical-align: middle;\n",
       "    }\n",
       "\n",
       "    .dataframe tbody tr th {\n",
       "        vertical-align: top;\n",
       "    }\n",
       "\n",
       "    .dataframe thead th {\n",
       "        text-align: right;\n",
       "    }\n",
       "</style>\n",
       "<table border=\"1\" class=\"dataframe\">\n",
       "  <thead>\n",
       "    <tr style=\"text-align: right;\">\n",
       "      <th></th>\n",
       "      <th>Name</th>\n",
       "      <th>Designation</th>\n",
       "      <th>Domain</th>\n",
       "      <th>Contact</th>\n",
       "      <th>E-mail</th>\n",
       "      <th>Website</th>\n",
       "      <th>Address</th>\n",
       "      <th>District</th>\n",
       "      <th>State</th>\n",
       "      <th>Pincode</th>\n",
       "    </tr>\n",
       "  </thead>\n",
       "  <tbody>\n",
       "    <tr>\n",
       "      <th>0</th>\n",
       "      <td>Selva</td>\n",
       "      <td>DATA MANAGER</td>\n",
       "      <td>digitals</td>\n",
       "      <td>+123-456-7890</td>\n",
       "      <td>hello@XYZ1.com</td>\n",
       "      <td>WWW XYZI.com</td>\n",
       "      <td>123 ABC St</td>\n",
       "      <td>Chennai</td>\n",
       "      <td>TamilNadu</td>\n",
       "      <td>600113</td>\n",
       "    </tr>\n",
       "    <tr>\n",
       "      <th>1</th>\n",
       "      <td>Selva</td>\n",
       "      <td>DATA MANAGER</td>\n",
       "      <td>digitals</td>\n",
       "      <td>+123-456-7891</td>\n",
       "      <td>hello@XYZ1.com</td>\n",
       "      <td>WWW XYZI.com</td>\n",
       "      <td>123 ABC St</td>\n",
       "      <td>Chennai</td>\n",
       "      <td>TamilNadu</td>\n",
       "      <td>600113</td>\n",
       "    </tr>\n",
       "    <tr>\n",
       "      <th>2</th>\n",
       "      <td>Amit kumar</td>\n",
       "      <td>CEO &amp; FOUNDER</td>\n",
       "      <td>INSURANCE</td>\n",
       "      <td>123-456-7569</td>\n",
       "      <td>hello@global.com</td>\n",
       "      <td>WWW.global.com</td>\n",
       "      <td>123 global</td>\n",
       "      <td>Erode,</td>\n",
       "      <td>TamilNadu</td>\n",
       "      <td>600115</td>\n",
       "    </tr>\n",
       "    <tr>\n",
       "      <th>3</th>\n",
       "      <td>KARTHICK</td>\n",
       "      <td>General Manager</td>\n",
       "      <td>AIRLINES</td>\n",
       "      <td>+123-456-7890</td>\n",
       "      <td>hello@Borcelle.com</td>\n",
       "      <td>NaN</td>\n",
       "      <td>123 ABC St</td>\n",
       "      <td>Salem</td>\n",
       "      <td>TamilNadu</td>\n",
       "      <td>600451</td>\n",
       "    </tr>\n",
       "    <tr>\n",
       "      <th>4</th>\n",
       "      <td>REVANTH</td>\n",
       "      <td>Marketing Executive</td>\n",
       "      <td>Restaurant</td>\n",
       "      <td>+91-456-1234</td>\n",
       "      <td>hello@CHRISTMAS.com</td>\n",
       "      <td>NaN</td>\n",
       "      <td>123 ABC St</td>\n",
       "      <td>HYDRABA</td>\n",
       "      <td>TamilNadu</td>\n",
       "      <td>600001</td>\n",
       "    </tr>\n",
       "    <tr>\n",
       "      <th>5</th>\n",
       "      <td>SANTHOSH</td>\n",
       "      <td>Technical Manager</td>\n",
       "      <td>Sun Electricals</td>\n",
       "      <td>+123-456-1234</td>\n",
       "      <td>hello@Sun.com</td>\n",
       "      <td>NaN</td>\n",
       "      <td>123 ABC St</td>\n",
       "      <td>Tirupur</td>\n",
       "      <td>TamilNadu</td>\n",
       "      <td>641603</td>\n",
       "    </tr>\n",
       "  </tbody>\n",
       "</table>\n",
       "</div>"
      ],
      "text/plain": [
       "         Name          Designation           Domain        Contact  \\\n",
       "0       Selva         DATA MANAGER         digitals  +123-456-7890   \n",
       "1       Selva         DATA MANAGER         digitals  +123-456-7891   \n",
       "2  Amit kumar        CEO & FOUNDER        INSURANCE   123-456-7569   \n",
       "3    KARTHICK      General Manager         AIRLINES  +123-456-7890   \n",
       "4     REVANTH  Marketing Executive       Restaurant   +91-456-1234   \n",
       "5    SANTHOSH    Technical Manager  Sun Electricals  +123-456-1234   \n",
       "\n",
       "                E-mail         Website     Address  District      State  \\\n",
       "0       hello@XYZ1.com    WWW XYZI.com  123 ABC St   Chennai  TamilNadu   \n",
       "1       hello@XYZ1.com    WWW XYZI.com  123 ABC St   Chennai  TamilNadu   \n",
       "2     hello@global.com  WWW.global.com  123 global    Erode,  TamilNadu   \n",
       "3   hello@Borcelle.com             NaN  123 ABC St     Salem  TamilNadu   \n",
       "4  hello@CHRISTMAS.com             NaN  123 ABC St   HYDRABA  TamilNadu   \n",
       "5        hello@Sun.com             NaN  123 ABC St   Tirupur  TamilNadu   \n",
       "\n",
       "   Pincode  \n",
       "0   600113  \n",
       "1   600113  \n",
       "2   600115  \n",
       "3   600451  \n",
       "4   600001  \n",
       "5   641603  "
      ]
     },
     "execution_count": 58,
     "metadata": {},
     "output_type": "execute_result"
    }
   ],
   "source": [
    "pd.read_csv('Extracted_data.csv')"
   ]
  }
 ],
 "metadata": {
  "kernelspec": {
   "display_name": "Python 3",
   "language": "python",
   "name": "python3"
  },
  "language_info": {
   "codemirror_mode": {
    "name": "ipython",
    "version": 3
   },
   "file_extension": ".py",
   "mimetype": "text/x-python",
   "name": "python",
   "nbconvert_exporter": "python",
   "pygments_lexer": "ipython3",
   "version": "3.12.2"
  }
 },
 "nbformat": 4,
 "nbformat_minor": 2
}
